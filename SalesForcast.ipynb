{
 "cells": [
  {
   "cell_type": "markdown",
   "id": "8425597a",
   "metadata": {},
   "source": [
    "#                                      Prediksi Perkiraan Penjualan"
   ]
  },
  {
   "cell_type": "markdown",
   "id": "5ed45d7d",
   "metadata": {},
   "source": [
    "## import SparkSession "
   ]
  },
  {
   "cell_type": "code",
   "execution_count": 11,
   "id": "69ed5a52",
   "metadata": {},
   "outputs": [],
   "source": [
    "import os\n",
    "import findspark\n",
    "findspark.init()\n",
    "import warnings\n",
    "warnings.filterwarnings('ignore')\n",
    "from pyspark.sql import SparkSession\n",
    "from pyspark.sql.types import StructField, StructType, StringType, IntegerType, FloatType\n",
    "from pyspark.sql.functions import split, count, when, isnan, col, regexp_replace\n",
    "from pyspark.sql import Row"
   ]
  },
  {
   "cell_type": "code",
   "execution_count": 12,
   "id": "fbc8fd31",
   "metadata": {},
   "outputs": [],
   "source": [
    "# Inisialisasi sesi Spark\n",
    "spark = SparkSession.builder.appName(\"SalesPrediction\").getOrCreate()"
   ]
  },
  {
   "cell_type": "markdown",
   "id": "cf3a1409",
   "metadata": {},
   "source": [
    "## Membuat Data Frame nya menggunakan Numpy, Tidak menggunakan Data Set CSV"
   ]
  },
  {
   "cell_type": "code",
   "execution_count": 13,
   "id": "5e3a9b55",
   "metadata": {},
   "outputs": [],
   "source": [
    "import numpy as np"
   ]
  },
  {
   "cell_type": "code",
   "execution_count": 14,
   "id": "2745349d",
   "metadata": {},
   "outputs": [],
   "source": [
    "# Buat dataset dasar\n",
    "data = []\n",
    "np.random.seed(0)\n",
    "\n",
    "for _ in range(100):\n",
    "    harga = np.random.randint(50, 500)\n",
    "    iklan = np.random.randint(1, 10)\n",
    "    populeritas = np.random.randint(10, 100)\n",
    "    persediaan = np.random.randint(10, 100)\n",
    "    penjualan = 1000 + (10 * harga) - (5 * iklan) + (2 * populeritas) + (3 * persediaan)\n",
    "    data.append(Row(harga=harga, iklan=iklan, populeritas=populeritas, persediaan=persediaan, penjualan=penjualan))"
   ]
  },
  {
   "cell_type": "code",
   "execution_count": 15,
   "id": "ee002de0",
   "metadata": {},
   "outputs": [],
   "source": [
    "\n",
    "# Buat DataFrame dari data\n",
    "df = spark.createDataFrame(data)"
   ]
  },
  {
   "cell_type": "markdown",
   "id": "db1a63df",
   "metadata": {},
   "source": [
    "## Setelah data dibuat lalu menampilkan data dengan top 10"
   ]
  },
  {
   "cell_type": "code",
   "execution_count": 16,
   "id": "16ffcc72",
   "metadata": {},
   "outputs": [
    {
     "name": "stdout",
     "output_type": "stream",
     "text": [
      "+-----+-----+-----------+----------+---------+\n",
      "|harga|iklan|populeritas|persediaan|penjualan|\n",
      "+-----+-----+-----------+----------+---------+\n",
      "|  222|    6|         74|        77|     3569|\n",
      "|  301|    4|         19|        93|     4307|\n",
      "|  327|    3|         46|        97|     4638|\n",
      "|  120|    9|         98|        22|     2417|\n",
      "|  364|    2|         49|        97|     5019|\n",
      "|  224|    9|         91|        47|     3518|\n",
      "|   75|    9|         19|        30|     1833|\n",
      "|  165|    1|         79|        89|     3070|\n",
      "|  481|    1|         92|        98|     6283|\n",
      "|  227|    4|         39|        29|     3415|\n",
      "+-----+-----+-----------+----------+---------+\n",
      "only showing top 10 rows\n",
      "\n"
     ]
    }
   ],
   "source": [
    "# Tampilkan 10 baris data teratas\n",
    "df.show(10)\n"
   ]
  },
  {
   "cell_type": "code",
   "execution_count": 17,
   "id": "ddeb4c72",
   "metadata": {
    "scrolled": true
   },
   "outputs": [
    {
     "name": "stdout",
     "output_type": "stream",
     "text": [
      "root\n",
      " |-- harga: long (nullable = true)\n",
      " |-- iklan: long (nullable = true)\n",
      " |-- populeritas: long (nullable = true)\n",
      " |-- persediaan: long (nullable = true)\n",
      " |-- penjualan: long (nullable = true)\n",
      "\n"
     ]
    }
   ],
   "source": [
    "df.printSchema()"
   ]
  },
  {
   "cell_type": "markdown",
   "id": "8e0b1408",
   "metadata": {},
   "source": [
    "### Modul ini menyediakan alat untuk mengelola data vektor.\n",
    "##### Vektor digunakan untuk menggabungkan fitur-fitur data ke dalam satu entitas yang dapat digunakan oleh model machine learning. "
   ]
  },
  {
   "cell_type": "code",
   "execution_count": 18,
   "id": "cbd1347e",
   "metadata": {},
   "outputs": [],
   "source": [
    "from pyspark.ml.linalg import Vectors\n",
    "from pyspark.ml.feature import VectorAssembler"
   ]
  },
  {
   "cell_type": "code",
   "execution_count": 19,
   "id": "ef87243c",
   "metadata": {},
   "outputs": [],
   "source": [
    "# Buat vektor fitur\n",
    "assembler = VectorAssembler(inputCols=[\"harga\", \"iklan\", \"populeritas\", \"persediaan\"], outputCol=\"fitur\")\n",
    "df = assembler.transform(df)"
   ]
  },
  {
   "cell_type": "code",
   "execution_count": 20,
   "id": "00a837e5",
   "metadata": {},
   "outputs": [],
   "source": [
    "\n",
    "# Pisahkan data menjadi data latih dan data uji\n",
    "train_data, test_data = df.randomSplit([0.8, 0.2], seed=42)"
   ]
  },
  {
   "cell_type": "markdown",
   "id": "90717c11",
   "metadata": {},
   "source": [
    "#### LinearRegression adalah salah satu algoritma regresi yang tersedia dalam Apache Spark's MLlib (Machine Learning Library)"
   ]
  },
  {
   "cell_type": "code",
   "execution_count": 21,
   "id": "dffdc16b",
   "metadata": {},
   "outputs": [],
   "source": [
    "from pyspark.ml.regression import LinearRegression"
   ]
  },
  {
   "cell_type": "markdown",
   "id": "92e07bcc",
   "metadata": {},
   "source": [
    "### Regresi linear adalah teknik statistik yang digunakan untuk memodelkan hubungan antara variabel dependen (dalam hal ini, \"penjualan\") dan satu atau lebih variabel independen (fitur-fitur seperti \"harga,\" \"iklan,\" \"populeritas,\" dan \"persediaan\")."
   ]
  },
  {
   "cell_type": "code",
   "execution_count": 22,
   "id": "beb5a033",
   "metadata": {},
   "outputs": [],
   "source": [
    "# Inisialisasi model regresi linear\n",
    "lr = LinearRegression(featuresCol=\"fitur\", labelCol=\"penjualan\")"
   ]
  },
  {
   "cell_type": "code",
   "execution_count": 23,
   "id": "ed79fa63",
   "metadata": {},
   "outputs": [],
   "source": [
    "# Latih model\n",
    "model = lr.fit(train_data)"
   ]
  },
  {
   "cell_type": "code",
   "execution_count": 24,
   "id": "f1b0b0ed",
   "metadata": {},
   "outputs": [],
   "source": [
    "# Lakukan prediksi pada data uji\n",
    "predictions = model.transform(test_data)"
   ]
  },
  {
   "cell_type": "code",
   "execution_count": 25,
   "id": "bb08ba40",
   "metadata": {},
   "outputs": [
    {
     "name": "stdout",
     "output_type": "stream",
     "text": [
      "+-----+-----+-----------+----------+---------+------------------+\n",
      "|harga|iklan|populeritas|persediaan|penjualan|        prediction|\n",
      "+-----+-----+-----------+----------+---------+------------------+\n",
      "|  132|    1|         24|        63|     2552|2552.0000000000036|\n",
      "|  198|    4|         68|        33|     3195|3195.0000000000014|\n",
      "|  224|    9|         91|        47|     3518|3517.9999999999995|\n",
      "|  312|    5|         57|        13|     4248|            4248.0|\n",
      "|  420|    8|         38|        44|     5368| 5367.999999999999|\n",
      "|  475|    4|         21|        56|     5940| 5939.999999999999|\n",
      "|   92|    4|         66|        70|     2242| 2242.000000000002|\n",
      "|  144|    3|         23|        50|     2621| 2621.000000000003|\n",
      "|  148|    1|         31|        83|     2786|2786.0000000000023|\n",
      "|  298|    5|         77|        71|     4322| 4321.999999999999|\n",
      "|  357|    1|         42|        64|     4841|            4841.0|\n",
      "|  433|    1|         20|        53|     5524| 5523.999999999999|\n",
      "|   79|    2|         43|        28|     1950|1950.0000000000039|\n",
      "|  268|    3|         13|        41|     3814|3814.0000000000023|\n",
      "|  309|    7|         45|        96|     4433| 4432.999999999999|\n",
      "|  315|    8|         49|        71|     4421| 4420.999999999999|\n",
      "|  323|    5|         12|        79|     4466|            4466.0|\n",
      "|  166|    4|         61|        18|     2816|2816.0000000000027|\n",
      "|  476|    7|         38|        30|     5891| 5890.999999999998|\n",
      "|  490|    8|         42|        29|     6031| 6030.999999999998|\n",
      "+-----+-----+-----------+----------+---------+------------------+\n",
      "\n"
     ]
    }
   ],
   "source": [
    "# Tampilkan beberapa prediksi\n",
    "predictions.select(\"harga\", \"iklan\", \"populeritas\", \"persediaan\", \"penjualan\", \"prediction\").show()"
   ]
  },
  {
   "cell_type": "markdown",
   "id": "6b170a89",
   "metadata": {},
   "source": [
    "### Nilai RMSE yang sangat kecil, seperti \"1.911156558815751e-12,\" yang sangat mendekati nol,\n",
    "### menunjukkan bahwa model Anda hampir sempurna dalam memprediksi data penjualan.\n",
    "### Dalam kasus ini, nilai prediksi model hampir sama persis dengan nilai sebenarnya.\n",
    "### Ini adalah hasil yang sangat baik dan mengindikasikan bahwa model Anda sangat akurat."
   ]
  },
  {
   "cell_type": "code",
   "execution_count": 26,
   "id": "5f0d7d84",
   "metadata": {},
   "outputs": [
    {
     "name": "stdout",
     "output_type": "stream",
     "text": [
      "Root Mean Squared Error (RMSE): 1.911156558815751e-12\n"
     ]
    }
   ],
   "source": [
    "# Evaluasi model (misalnya, menggunakan RMSE)\n",
    "from pyspark.ml.evaluation import RegressionEvaluator\n",
    "evaluator = RegressionEvaluator(labelCol=\"penjualan\", predictionCol=\"prediction\", metricName=\"rmse\")\n",
    "rmse = evaluator.evaluate(predictions)\n",
    "print(\"Root Mean Squared Error (RMSE):\", rmse)\n",
    "\n",
    "# Stop sesi Spark\n",
    "spark.stop()\n"
   ]
  }
 ],
 "metadata": {
  "kernelspec": {
   "display_name": "Python 3 (ipykernel)",
   "language": "python",
   "name": "python3"
  },
  "language_info": {
   "codemirror_mode": {
    "name": "ipython",
    "version": 3
   },
   "file_extension": ".py",
   "mimetype": "text/x-python",
   "name": "python",
   "nbconvert_exporter": "python",
   "pygments_lexer": "ipython3",
   "version": "3.11.3"
  }
 },
 "nbformat": 4,
 "nbformat_minor": 5
}
